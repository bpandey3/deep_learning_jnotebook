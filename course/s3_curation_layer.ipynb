{
 "cells": [
  {
   "cell_type": "code",
   "execution_count": 1,
   "id": "0674c100-6d91-4254-ae40-798a136d70bd",
   "metadata": {},
   "outputs": [
    {
     "name": "stdout",
     "output_type": "stream",
     "text": [
      "Collecting duckdb\n",
      "  Downloading duckdb-1.3.2-cp311-cp311-macosx_12_0_arm64.whl.metadata (7.0 kB)\n",
      "Downloading duckdb-1.3.2-cp311-cp311-macosx_12_0_arm64.whl (15.5 MB)\n",
      "\u001b[2K   \u001b[38;2;114;156;31m━━━━━━━━━━━━━━━━━━━━━━━━━━━━━━━━━━━━━━━━\u001b[0m \u001b[32m15.5/15.5 MB\u001b[0m \u001b[31m46.2 MB/s\u001b[0m eta \u001b[36m0:00:00\u001b[0m1m47.1 MB/s\u001b[0m eta \u001b[36m0:00:01\u001b[0m\n",
      "\u001b[?25hInstalling collected packages: duckdb\n",
      "Successfully installed duckdb-1.3.2\n"
     ]
    }
   ],
   "source": [
    "!pip install duckdb"
   ]
  },
  {
   "cell_type": "code",
   "execution_count": 3,
   "id": "0b18ce91-8a03-4dd0-88ec-303338e929a6",
   "metadata": {},
   "outputs": [],
   "source": [
    "import duckdb\n",
    "import pandas as pd\n",
    "\n",
    "# 1. Load Parquet from public S3 into DuckDB or pd.DataFrame\n",
    "con = duckdb.connect()\n",
    "con.execute(\"\"\"\n",
    "  SELECT trip_distance, fare_amount, passenger_count\n",
    "  FROM read_parquet('https://d37ci6vzurychx.cloudfront.net/trip-data/yellow_tripdata_2019-01.parquet')\n",
    "  LIMIT 1000\n",
    "\"\"\")\n",
    "df = con.fetchdf()\n"
   ]
  },
  {
   "cell_type": "code",
   "execution_count": 4,
   "id": "8922eae2-2138-4f1b-aea0-81d2e21c943c",
   "metadata": {},
   "outputs": [
    {
     "data": {
      "text/html": [
       "<div>\n",
       "<style scoped>\n",
       "    .dataframe tbody tr th:only-of-type {\n",
       "        vertical-align: middle;\n",
       "    }\n",
       "\n",
       "    .dataframe tbody tr th {\n",
       "        vertical-align: top;\n",
       "    }\n",
       "\n",
       "    .dataframe thead th {\n",
       "        text-align: right;\n",
       "    }\n",
       "</style>\n",
       "<table border=\"1\" class=\"dataframe\">\n",
       "  <thead>\n",
       "    <tr style=\"text-align: right;\">\n",
       "      <th></th>\n",
       "      <th>trip_distance</th>\n",
       "      <th>fare_amount</th>\n",
       "      <th>passenger_count</th>\n",
       "    </tr>\n",
       "  </thead>\n",
       "  <tbody>\n",
       "    <tr>\n",
       "      <th>0</th>\n",
       "      <td>1.5</td>\n",
       "      <td>7.0</td>\n",
       "      <td>1.0</td>\n",
       "    </tr>\n",
       "    <tr>\n",
       "      <th>1</th>\n",
       "      <td>2.6</td>\n",
       "      <td>14.0</td>\n",
       "      <td>1.0</td>\n",
       "    </tr>\n",
       "    <tr>\n",
       "      <th>2</th>\n",
       "      <td>0.0</td>\n",
       "      <td>4.5</td>\n",
       "      <td>3.0</td>\n",
       "    </tr>\n",
       "    <tr>\n",
       "      <th>3</th>\n",
       "      <td>0.0</td>\n",
       "      <td>3.5</td>\n",
       "      <td>5.0</td>\n",
       "    </tr>\n",
       "    <tr>\n",
       "      <th>4</th>\n",
       "      <td>0.0</td>\n",
       "      <td>52.0</td>\n",
       "      <td>5.0</td>\n",
       "    </tr>\n",
       "  </tbody>\n",
       "</table>\n",
       "</div>"
      ],
      "text/plain": [
       "   trip_distance  fare_amount  passenger_count\n",
       "0            1.5          7.0              1.0\n",
       "1            2.6         14.0              1.0\n",
       "2            0.0          4.5              3.0\n",
       "3            0.0          3.5              5.0\n",
       "4            0.0         52.0              5.0"
      ]
     },
     "execution_count": 4,
     "metadata": {},
     "output_type": "execute_result"
    }
   ],
   "source": [
    "df.head()"
   ]
  },
  {
   "cell_type": "code",
   "execution_count": null,
   "id": "b180435a-1147-47a0-bebf-5c1b4f70832e",
   "metadata": {},
   "outputs": [],
   "source": [
    "Prepare few-shot prompt with CSV snippet"
   ]
  },
  {
   "cell_type": "code",
   "execution_count": 6,
   "id": "7acf1168-85f8-4083-80f9-b12b376c2055",
   "metadata": {},
   "outputs": [
    {
     "name": "stdout",
     "output_type": "stream",
     "text": [
      "trip_distance,fare_amount,passenger_count\n",
      "16.71,47.0,6.0\n",
      "4.5,20.5,2.0\n",
      "0.7,5.5,1.0\n",
      "1.1,7.5,1.0\n",
      "1.56,8.0,1.0\n",
      "1.4,10.0,1.0\n",
      "2.85,15.5,1.0\n",
      "0.81,5.5,1.0\n",
      "2.4,10.5,1.0\n",
      "0.93,6.5,1.0\n",
      "0.8,5.0,1.0\n",
      "1.22,9.0,2.0\n",
      "0.8,5.0,4.0\n",
      "1.5,6.5,1.0\n",
      "1.13,5.5,2.0\n",
      "1.74,10.5,5.0\n",
      "1.84,12.5,2.0\n",
      "2.2,10.5,1.0\n",
      "1.93,10.5,5.0\n",
      "0.77,6.5,1.0\n",
      "0.6,5.0,1.0\n",
      "4.4,18.0,1.0\n",
      "2.6,12.0,2.0\n",
      "1.1,6.0,3.0\n",
      "16.6,48.0,4.0\n",
      "2.1,10.0,2.0\n",
      "0.7,7.0,1.0\n",
      "2.8,15.0,2.0\n",
      "3.8,19.5,1.0\n",
      "1.4,5.5,1.0\n",
      "0.66,5.5,1.0\n",
      "1.2,7.0,1.0\n",
      "1.91,10.5,2.0\n",
      "1.12,6.5,1.0\n",
      "0.8,5.0,3.0\n",
      "4.85,15.5,1.0\n",
      "9.0,37.0,1.0\n",
      "4.7,15.5,2.0\n",
      "3.79,14.5,2.0\n",
      "0.72,7.0,1.0\n",
      "0.65,4.5,1.0\n",
      "1.68,7.0,1.0\n",
      "5.9,24.0,2.0\n",
      "1.4,7.5,1.0\n",
      "0.46,4.5,1.0\n",
      "1.8,7.0,1.0\n",
      "3.8,14.0,2.0\n",
      "0.9,5.0,1.0\n",
      "5.6,18.0,2.0\n",
      "0.5,3.5,1.0\n",
      "\n"
     ]
    }
   ],
   "source": [
    "# 2. Prepare few-shot prompt with CSV snippet\n",
    "sample_csv = df.sample(50).to_csv(index=False)\n",
    "print(sample_csv)"
   ]
  },
  {
   "cell_type": "code",
   "execution_count": 7,
   "id": "b994e6ce-e322-4733-8d45-2ceb38a15af4",
   "metadata": {},
   "outputs": [],
   "source": [
    "# 2. Prepare few-shot prompt with CSV snippet\n",
    "sample_csv = df.sample(50).to_csv(index=False)\n",
    "prompt = f\"\"\"\n",
    "You are a smart data analyst. Clean this data snippet:\n",
    "- Drop rows where passenger_count is zero,\n",
    "- Compute avg trip_distance and avg fare,\n",
    "and output a clean summary table.\n",
    "\n",
    "Data:\n",
    "{sample_csv}\n",
    "\"\"\"\n"
   ]
  },
  {
   "cell_type": "code",
   "execution_count": 9,
   "id": "1cf98a7d-89da-4103-aad7-326ff0e234a0",
   "metadata": {},
   "outputs": [
    {
     "name": "stdout",
     "output_type": "stream",
     "text": [
      "\n",
      "You are a smart data analyst. Clean this data snippet:\n",
      "- Drop rows where passenger_count is zero,\n",
      "- Compute avg trip_distance and avg fare,\n",
      "and output a clean summary table.\n",
      "\n",
      "Data:\n",
      "trip_distance,fare_amount,passenger_count\n",
      "1.4,7.5,2.0\n",
      "0.7,4.5,1.0\n",
      "8.0,27.0,1.0\n",
      "3.8,16.5,2.0\n",
      "3.4,12.5,1.0\n",
      "1.9,9.0,3.0\n",
      "3.6,15.5,3.0\n",
      "1.1,6.5,1.0\n",
      "1.5,8.0,1.0\n",
      "1.18,6.0,1.0\n",
      "5.99,18.5,4.0\n",
      "3.0,12.5,1.0\n",
      "0.5,4.0,2.0\n",
      "0.55,6.5,1.0\n",
      "2.51,10.5,1.0\n",
      "0.5,4.5,2.0\n",
      "3.7,13.0,1.0\n",
      "0.8,6.5,1.0\n",
      "0.71,6.5,2.0\n",
      "0.64,5.0,1.0\n",
      "1.41,6.5,1.0\n",
      "4.6,22.0,1.0\n",
      "0.8,4.5,1.0\n",
      "3.14,14.5,1.0\n",
      "0.9,6.0,1.0\n",
      "0.69,5.5,3.0\n",
      "1.8,8.0,1.0\n",
      "0.8,5.0,3.0\n",
      "1.3,9.5,2.0\n",
      "1.05,5.5,1.0\n",
      "0.9,6.5,2.0\n",
      "0.6,5.5,3.0\n",
      "1.3,19.0,1.0\n",
      "1.8,11.0,3.0\n",
      "0.8,9.0,4.0\n",
      "8.8,27.5,1.0\n",
      "1.89,9.0,2.0\n",
      "0.4,3.5,3.0\n",
      "3.65,15.5,3.0\n",
      "1.4,7.5,3.0\n",
      "4.55,17.0,1.0\n",
      "3.9,13.0,1.0\n",
      "2.01,10.0,2.0\n",
      "0.3,4.0,2.0\n",
      "4.02,15.5,1.0\n",
      "0.1,2.5,2.0\n",
      "4.3,19.0,2.0\n",
      "9.33,28.5,1.0\n",
      "3.3,18.5,1.0\n",
      "1.5,7.0,1.0\n",
      "\n",
      "\n"
     ]
    }
   ],
   "source": [
    "print(prompt)"
   ]
  },
  {
   "cell_type": "code",
   "execution_count": null,
   "id": "d30a138e-bb92-4aba-84ca-89d78eb61bb2",
   "metadata": {},
   "outputs": [],
   "source": []
  },
  {
   "cell_type": "code",
   "execution_count": null,
   "id": "ecfd47ca-e353-48a2-8904-b4002d21235f",
   "metadata": {},
   "outputs": [],
   "source": [
    "resp = openai.ChatCompletion.create(model=\"gpt-4\", messages=[{\"role\":\"user\",\"content\":prompt}])\n",
    "cleaned_summary = resp.choices[0].message.content\n",
    "\n",
    "# 3. Save summary back to S3\n",
    "s3 = boto3.client('s3')\n",
    "s3.put_object(Bucket='your-bucket', Key='curated/summary.txt', Body=cleaned_summary)\n",
    "\n",
    "# 4. Question phase\n",
    "qa_prompt = f\"Summary:\\n{cleaned_summary}\\n\\nQuestion: What is the average fare?\"\n",
    "resp2 = openai.ChatCompletion.create(model=\"gpt-4\", messages=[{\"role\":\"user\",\"content\":qa_prompt}])\n",
    "print(resp2.choices[0].message.content)"
   ]
  }
 ],
 "metadata": {
  "kernelspec": {
   "display_name": "Python 3 (ipykernel)",
   "language": "python",
   "name": "python3"
  },
  "language_info": {
   "codemirror_mode": {
    "name": "ipython",
    "version": 3
   },
   "file_extension": ".py",
   "mimetype": "text/x-python",
   "name": "python",
   "nbconvert_exporter": "python",
   "pygments_lexer": "ipython3",
   "version": "3.11.11"
  }
 },
 "nbformat": 4,
 "nbformat_minor": 5
}

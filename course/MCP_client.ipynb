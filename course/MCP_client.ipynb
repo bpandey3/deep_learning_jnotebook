{
 "cells": [
  {
   "cell_type": "code",
   "execution_count": 4,
   "id": "f9bac6b9-88a5-4c0a-8cb3-ba3a2606f7a4",
   "metadata": {},
   "outputs": [
    {
     "name": "stdout",
     "output_type": "stream",
     "text": [
      "Name: mcp\n",
      "Version: 1.14.0\n",
      "Summary: Model Context Protocol SDK\n",
      "Home-page: https://modelcontextprotocol.io\n",
      "Author: Anthropic, PBC.\n",
      "Author-email: \n",
      "License: MIT\n",
      "Location: /opt/miniconda3/envs/ztdltest/lib/python3.11/site-packages\n",
      "Requires: anyio, httpx, httpx-sse, jsonschema, pydantic, pydantic-settings, python-multipart, sse-starlette, starlette, uvicorn\n",
      "Required-by: \n"
     ]
    }
   ],
   "source": [
    "!pip show mcp"
   ]
  },
  {
   "cell_type": "code",
   "execution_count": 8,
   "id": "1145fce3-2264-4d68-bac9-2e26d4de7213",
   "metadata": {},
   "outputs": [
    {
     "ename": "ModuleNotFoundError",
     "evalue": "No module named 'mcp.client.http'",
     "output_type": "error",
     "traceback": [
      "\u001b[0;31m---------------------------------------------------------------------------\u001b[0m",
      "\u001b[0;31mModuleNotFoundError\u001b[0m                       Traceback (most recent call last)",
      "Cell \u001b[0;32mIn[8], line 2\u001b[0m\n\u001b[1;32m      1\u001b[0m \u001b[38;5;28;01mimport\u001b[39;00m \u001b[38;5;21;01masyncio\u001b[39;00m\n\u001b[0;32m----> 2\u001b[0m \u001b[38;5;28;01mfrom\u001b[39;00m \u001b[38;5;21;01mmcp\u001b[39;00m\u001b[38;5;21;01m.\u001b[39;00m\u001b[38;5;21;01mclient\u001b[39;00m\u001b[38;5;21;01m.\u001b[39;00m\u001b[38;5;21;01mhttp\u001b[39;00m \u001b[38;5;28;01mimport\u001b[39;00m connect_http  \u001b[38;5;66;03m# this replaces connect_sse\u001b[39;00m\n\u001b[1;32m      4\u001b[0m \u001b[38;5;28;01masync\u001b[39;00m \u001b[38;5;28;01mdef\u001b[39;00m \u001b[38;5;21mclient_test\u001b[39m():\n\u001b[1;32m      5\u001b[0m     \u001b[38;5;66;03m# your MCP server must expose /mcp endpoint\u001b[39;00m\n\u001b[1;32m      6\u001b[0m     url \u001b[38;5;241m=\u001b[39m \u001b[38;5;124m\"\u001b[39m\u001b[38;5;124mhttp://localhost:8000/mcp\u001b[39m\u001b[38;5;124m\"\u001b[39m\n",
      "\u001b[0;31mModuleNotFoundError\u001b[0m: No module named 'mcp.client.http'"
     ]
    }
   ],
   "source": [
    "import asyncio\n",
    "from mcp.client.http import connect_http  # this replaces connect_sse\n",
    "\n",
    "async def client_test():\n",
    "    # your MCP server must expose /mcp endpoint\n",
    "    url = \"http://localhost:8000/mcp\"\n",
    "\n",
    "    async with connect_http(url, name=\"test-client\") as (read, write):\n",
    "        # send request to call tool\n",
    "        await write.request(\"call_tool\", {\n",
    "            \"name\": \"list_files\",\n",
    "            \"arguments\": {\"path\": \".\"}\n",
    "        })\n",
    "\n",
    "        # wait for response\n",
    "        msg = await read.receive()\n",
    "        print(\"Response:\", msg)\n",
    "\n",
    "# run in notebook\n",
    "await client_test()\n"
   ]
  },
  {
   "cell_type": "code",
   "execution_count": null,
   "id": "05076023-bd5a-4636-9fa5-117240272686",
   "metadata": {},
   "outputs": [],
   "source": []
  }
 ],
 "metadata": {
  "kernelspec": {
   "display_name": "Python 3 (ipykernel)",
   "language": "python",
   "name": "python3"
  },
  "language_info": {
   "codemirror_mode": {
    "name": "ipython",
    "version": 3
   },
   "file_extension": ".py",
   "mimetype": "text/x-python",
   "name": "python",
   "nbconvert_exporter": "python",
   "pygments_lexer": "ipython3",
   "version": "3.11.11"
  }
 },
 "nbformat": 4,
 "nbformat_minor": 5
}

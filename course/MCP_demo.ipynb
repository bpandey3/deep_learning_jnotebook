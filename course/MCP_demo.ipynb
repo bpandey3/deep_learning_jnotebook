{
 "cells": [
  {
   "cell_type": "code",
   "execution_count": 1,
   "id": "7748c8f9-6d50-44d7-981f-f0d6ee8f5239",
   "metadata": {},
   "outputs": [
    {
     "name": "stdout",
     "output_type": "stream",
     "text": [
      "Collecting mcp\n",
      "  Downloading mcp-1.14.0-py3-none-any.whl.metadata (75 kB)\n",
      "Requirement already satisfied: anyio>=4.5 in /opt/miniconda3/envs/ztdltest/lib/python3.11/site-packages (from mcp) (4.6.2)\n",
      "Requirement already satisfied: httpx-sse>=0.4 in /opt/miniconda3/envs/ztdltest/lib/python3.11/site-packages (from mcp) (0.4.1)\n",
      "Collecting httpx>=0.27.1 (from mcp)\n",
      "  Using cached httpx-0.28.1-py3-none-any.whl.metadata (7.1 kB)\n",
      "Requirement already satisfied: jsonschema>=4.20.0 in /opt/miniconda3/envs/ztdltest/lib/python3.11/site-packages (from mcp) (4.23.0)\n",
      "Requirement already satisfied: pydantic-settings>=2.5.2 in /opt/miniconda3/envs/ztdltest/lib/python3.11/site-packages (from mcp) (2.10.1)\n",
      "Requirement already satisfied: pydantic<3.0.0,>=2.11.0 in /opt/miniconda3/envs/ztdltest/lib/python3.11/site-packages (from mcp) (2.11.7)\n",
      "Collecting python-multipart>=0.0.9 (from mcp)\n",
      "  Downloading python_multipart-0.0.20-py3-none-any.whl.metadata (1.8 kB)\n",
      "Collecting sse-starlette>=1.6.1 (from mcp)\n",
      "  Downloading sse_starlette-3.0.2-py3-none-any.whl.metadata (11 kB)\n",
      "Collecting starlette>=0.27 (from mcp)\n",
      "  Downloading starlette-0.48.0-py3-none-any.whl.metadata (6.3 kB)\n",
      "Collecting uvicorn>=0.31.1 (from mcp)\n",
      "  Downloading uvicorn-0.35.0-py3-none-any.whl.metadata (6.5 kB)\n",
      "Requirement already satisfied: idna>=2.8 in /opt/miniconda3/envs/ztdltest/lib/python3.11/site-packages (from anyio>=4.5->mcp) (3.7)\n",
      "Requirement already satisfied: sniffio>=1.1 in /opt/miniconda3/envs/ztdltest/lib/python3.11/site-packages (from anyio>=4.5->mcp) (1.3.0)\n",
      "Requirement already satisfied: certifi in /opt/miniconda3/envs/ztdltest/lib/python3.11/site-packages (from httpx>=0.27.1->mcp) (2024.12.14)\n",
      "Requirement already satisfied: httpcore==1.* in /opt/miniconda3/envs/ztdltest/lib/python3.11/site-packages (from httpx>=0.27.1->mcp) (1.0.2)\n",
      "Requirement already satisfied: h11<0.15,>=0.13 in /opt/miniconda3/envs/ztdltest/lib/python3.11/site-packages (from httpcore==1.*->httpx>=0.27.1->mcp) (0.14.0)\n",
      "Requirement already satisfied: attrs>=22.2.0 in /opt/miniconda3/envs/ztdltest/lib/python3.11/site-packages (from jsonschema>=4.20.0->mcp) (24.3.0)\n",
      "Requirement already satisfied: jsonschema-specifications>=2023.03.6 in /opt/miniconda3/envs/ztdltest/lib/python3.11/site-packages (from jsonschema>=4.20.0->mcp) (2023.7.1)\n",
      "Requirement already satisfied: referencing>=0.28.4 in /opt/miniconda3/envs/ztdltest/lib/python3.11/site-packages (from jsonschema>=4.20.0->mcp) (0.30.2)\n",
      "Requirement already satisfied: rpds-py>=0.7.1 in /opt/miniconda3/envs/ztdltest/lib/python3.11/site-packages (from jsonschema>=4.20.0->mcp) (0.10.6)\n",
      "Requirement already satisfied: annotated-types>=0.6.0 in /opt/miniconda3/envs/ztdltest/lib/python3.11/site-packages (from pydantic<3.0.0,>=2.11.0->mcp) (0.7.0)\n",
      "Requirement already satisfied: pydantic-core==2.33.2 in /opt/miniconda3/envs/ztdltest/lib/python3.11/site-packages (from pydantic<3.0.0,>=2.11.0->mcp) (2.33.2)\n",
      "Requirement already satisfied: typing-extensions>=4.12.2 in /opt/miniconda3/envs/ztdltest/lib/python3.11/site-packages (from pydantic<3.0.0,>=2.11.0->mcp) (4.12.2)\n",
      "Requirement already satisfied: typing-inspection>=0.4.0 in /opt/miniconda3/envs/ztdltest/lib/python3.11/site-packages (from pydantic<3.0.0,>=2.11.0->mcp) (0.4.1)\n",
      "Requirement already satisfied: python-dotenv>=0.21.0 in /opt/miniconda3/envs/ztdltest/lib/python3.11/site-packages (from pydantic-settings>=2.5.2->mcp) (1.1.1)\n",
      "Collecting anyio>=4.5 (from mcp)\n",
      "  Downloading anyio-4.10.0-py3-none-any.whl.metadata (4.0 kB)\n",
      "Requirement already satisfied: click>=7.0 in /opt/miniconda3/envs/ztdltest/lib/python3.11/site-packages (from uvicorn>=0.31.1->mcp) (8.1.7)\n",
      "Downloading mcp-1.14.0-py3-none-any.whl (163 kB)\n",
      "Using cached httpx-0.28.1-py3-none-any.whl (73 kB)\n",
      "Downloading python_multipart-0.0.20-py3-none-any.whl (24 kB)\n",
      "Downloading sse_starlette-3.0.2-py3-none-any.whl (11 kB)\n",
      "Downloading anyio-4.10.0-py3-none-any.whl (107 kB)\n",
      "Downloading starlette-0.48.0-py3-none-any.whl (73 kB)\n",
      "Downloading uvicorn-0.35.0-py3-none-any.whl (66 kB)\n",
      "Installing collected packages: uvicorn, python-multipart, anyio, starlette, sse-starlette, httpx, mcp\n",
      "  Attempting uninstall: anyio\n",
      "    Found existing installation: anyio 4.6.2\n",
      "    Uninstalling anyio-4.6.2:\n",
      "      Successfully uninstalled anyio-4.6.2\n",
      "  Attempting uninstall: httpx\n",
      "    Found existing installation: httpx 0.27.0\n",
      "    Uninstalling httpx-0.27.0:\n",
      "      Successfully uninstalled httpx-0.27.0\n",
      "Successfully installed anyio-4.10.0 httpx-0.28.1 mcp-1.14.0 python-multipart-0.0.20 sse-starlette-3.0.2 starlette-0.48.0 uvicorn-0.35.0\n"
     ]
    }
   ],
   "source": [
    "!pip install mcp"
   ]
  },
  {
   "cell_type": "code",
   "execution_count": null,
   "id": "f059949a-ea65-4883-8653-e611addf0514",
   "metadata": {},
   "outputs": [
    {
     "name": "stderr",
     "output_type": "stream",
     "text": [
      "INFO:     Started server process [17573]\n",
      "INFO:     Waiting for application startup.\n",
      "INFO:     Application startup complete.\n",
      "INFO:     Uvicorn running on http://127.0.0.1:8000 (Press CTRL+C to quit)\n"
     ]
    }
   ],
   "source": [
    "from mcp.server.fastmcp import FastMCP\n",
    "import os\n",
    "\n",
    "mcp = FastMCP(\"MyServerName\")\n",
    "\n",
    "@mcp.tool()\n",
    "def list_files(path: str = \".\") -> list[str]:\n",
    "    \"\"\"List files in a given folder.\"\"\"\n",
    "    return os.listdir(path)\n",
    "\n",
    "@mcp.tool()\n",
    "def read_file(path: str) -> str:\n",
    "    \"\"\"Read the content of a text file.\"\"\"\n",
    "    if not os.path.exists(path):\n",
    "        raise FileNotFoundError(f\"{path} not found\")\n",
    "    with open(path, \"r\") as f:\n",
    "        return f.read()\n",
    "\n",
    "# Jupyter-safe: run on HTTP transport\n",
    "await mcp.run_sse_async(mount_path=\"/mcp\")\n"
   ]
  },
  {
   "cell_type": "code",
   "execution_count": null,
   "id": "48452f1b-fa6b-4d1d-813f-e28be547b2ce",
   "metadata": {},
   "outputs": [],
   "source": [
    "from mcp.client.sse import connect_sse\n",
    "\n",
    "async with connect_sse(\"http://localhost:8000/mcp\", name=\"test-client\") as (read, write):\n",
    "    await write.request(\"call_tool\", {\"name\": \"list_files\", \"arguments\": {\"path\": \".\"}})\n",
    "    msg = await read.receive()\n",
    "    print(\"Response:\", msg)\n"
   ]
  },
  {
   "cell_type": "code",
   "execution_count": null,
   "id": "8e9b408a-3586-4013-a0e7-06143b38cac1",
   "metadata": {},
   "outputs": [],
   "source": [
    "!pip install --upgrade mcp\n"
   ]
  },
  {
   "cell_type": "code",
   "execution_count": null,
   "id": "062de5b0-9abf-4ac2-8682-c5af2b5d551d",
   "metadata": {},
   "outputs": [],
   "source": []
  }
 ],
 "metadata": {
  "kernelspec": {
   "display_name": "Python 3 (ipykernel)",
   "language": "python",
   "name": "python3"
  },
  "language_info": {
   "codemirror_mode": {
    "name": "ipython",
    "version": 3
   },
   "file_extension": ".py",
   "mimetype": "text/x-python",
   "name": "python",
   "nbconvert_exporter": "python",
   "pygments_lexer": "ipython3",
   "version": "3.11.11"
  }
 },
 "nbformat": 4,
 "nbformat_minor": 5
}
